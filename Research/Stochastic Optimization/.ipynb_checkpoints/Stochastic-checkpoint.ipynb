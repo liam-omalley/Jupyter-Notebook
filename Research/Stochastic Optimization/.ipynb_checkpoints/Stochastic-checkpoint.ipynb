{
 "cells": [
  {
   "cell_type": "code",
   "execution_count": 1,
   "id": "fresh-boulder",
   "metadata": {},
   "outputs": [
    {
     "data": {
      "application/javascript": [
       "IPython.notebook.set_autosave_interval(120000)"
      ]
     },
     "metadata": {},
     "output_type": "display_data"
    },
    {
     "name": "stdout",
     "output_type": "stream",
     "text": [
      "Autosaving every 120 seconds\n"
     ]
    }
   ],
   "source": [
    "%matplotlib inline\n",
    "%autosave 120\n",
    "import pandas as pd\n",
    "import numpy as np\n",
    "import matplotlib.pyplot as plt\n",
    "import random as rand\n",
    "import seaborn as sns\n",
    "from math import sqrt\n",
    "from math import trunc\n",
    "sns.set(style=\"ticks\")"
   ]
  },
  {
   "cell_type": "code",
   "execution_count": 2,
   "id": "brief-solution",
   "metadata": {},
   "outputs": [],
   "source": [
    "import time\n",
    "start_time=time.time()"
   ]
  },
  {
   "cell_type": "code",
   "execution_count": 3,
   "id": "relative-completion",
   "metadata": {},
   "outputs": [],
   "source": [
    "#Define functions\n",
    "def randn():\n",
    "    return np.random.normal()\n",
    "def rand():\n",
    "    return np.random.uniform(0,1)\n",
    "def cm(j):\n",
    "    if j<(0.5*ITER):\n",
    "        return 0.5\n",
    "    elif j<(0.75*ITER):\n",
    "        return 0.15\n",
    "    else:\n",
    "        return 0.05\n",
    "def truncate(number, digits) -> float:\n",
    "    stepper = 10.0 ** digits\n",
    "    return trunc(stepper * number) / stepper"
   ]
  },
  {
   "cell_type": "code",
   "execution_count": 4,
   "id": "breeding-lease",
   "metadata": {},
   "outputs": [],
   "source": [
    "#Import and Rename Data\n",
    "data=pd.read_csv(\"data.csv\")\n",
    "data.columns=[\"ExpShearSS\",\"ExpStressSS\",\"Other\"]"
   ]
  },
  {
   "cell_type": "code",
   "execution_count": 5,
   "id": "turned-kentucky",
   "metadata": {},
   "outputs": [],
   "source": [
    "#Initial Guesses\n",
    "Mu0c = 0.00645468906131364\n",
    "MuINFc = 0.00316706382891868\n",
    "TauC = .0351797011418833\n",
    "Sigy0 = 0.0020498850301406\n",
    "tr1 = 0.70951493191527\n",
    "tr2 = 0.111778944141652\n",
    "a = 1     #1.0644714293727 #NOTE: USING CONSTANT VALUE FOR A\n",
    "MuR = 0.0216741984005847\n",
    "m = 1.5\n",
    "d = 0.5 #NOTE: USING CONSTANT VALUE FOR D\n",
    "\n",
    "#Computational Values\n",
    "ITER = 1000\n",
    "ERBEST = 10000\n",
    "n = len(data.ExpShearSS)"
   ]
  },
  {
   "cell_type": "code",
   "execution_count": 6,
   "id": "domestic-northeast",
   "metadata": {},
   "outputs": [
    {
     "name": "stdout",
     "output_type": "stream",
     "text": [
      "0.05705414271192051\n"
     ]
    }
   ],
   "source": [
    "for j in range(ITER):\n",
    "    MULT=cm(j)#Defines Mult\n",
    "    \n",
    "    #Assigning NEW Variable Values\n",
    "    Mu0cNEW = (sqrt(Mu0c) + MULT*.1*(.5 - rand()))**2\n",
    "    MuINFcNEW = (sqrt(MuINFc) + MULT*(.5 - rand()))**2\n",
    "    Sigy0NEW = (sqrt(Sigy0) + MULT*.1*(.5 - rand()))**2\n",
    "    tr1NEW = (sqrt(tr1) + MULT*(.5 - rand()))**2\n",
    "    tr2NEW = (sqrt(tr2) + MULT*.1*(.5 - rand()))**2\n",
    "    TauCNEW = (sqrt(TauC) + MULT*(.5 - rand()))**2\n",
    "    MuRNEW = (sqrt(MuR) + MULT*(.5 - rand()))**2\n",
    "    \n",
    "    #Calculate Structure / Stress Contributions, and Total Stress\n",
    "    LambdaSS = (tr2NEW * data.ExpShearSS ** d + 1)/(tr1NEW * data.ExpShearSS ** a + tr2NEW * data.ExpShearSS ** d + 1)\n",
    "    SigmaR = LambdaSS * Sigy0NEW + MuRNEW * data.ExpShearSS * LambdaSS ** m\n",
    "    SigmaVISC = data.ExpShearSS * (((Mu0cNEW - MuINFcNEW)/(1 + TauCNEW * data.ExpShearSS)) * MuINFcNEW)\n",
    "    SigmaTOT = SigmaR + SigmaVISC\n",
    "    \n",
    "    #Calculate Error\n",
    "    ERROR=0\n",
    "    for i in range (n):\n",
    "        ERROR += ((SigmaTOT[i] - data.ExpStressSS[i])/(data.ExpStressSS[i])) ** 2\n",
    "    s=(sqrt(ERROR)/n)\n",
    "    \n",
    "    #If New Best Error, Save Values\n",
    "    if s < ERBEST:\n",
    "        ERBEST = s;\n",
    "        Mu0c = Mu0cNEW;\n",
    "        MuINFc = MuINFcNEW;\n",
    "        Sigy0 = Sigy0NEW;\n",
    "        tr1 = tr1NEW;\n",
    "        tr2 = tr2NEW;\n",
    "        TauC = TauCNEW;\n",
    "        MuR = MuRNEW;\n",
    "        SigmaRBEST = SigmaR;\n",
    "        SigmaVISCBEST = SigmaVISC;\n",
    "        SigmaBEST = SigmaTOT;\n",
    "        ViscRBEST = SigmaR/data.ExpShearSS;\n",
    "        ViscTOT = SigmaBEST/data.ExpShearSS;\n",
    "        LambdaBEST = LambdaSS;\n",
    "print(ERBEST)"
   ]
  },
  {
   "cell_type": "code",
   "execution_count": 7,
   "id": "asian-asbestos",
   "metadata": {},
   "outputs": [
    {
     "name": "stdout",
     "output_type": "stream",
     "text": [
      "--- 6.23379 seconds ---\n",
      "--- 0.00623 seconds per iteration ---\n"
     ]
    }
   ],
   "source": [
    "print(\"--- %s seconds ---\" % (truncate(time.time() - start_time,5))) #wow, it is significantly slower than matlab and mathematica\n",
    "print(\"--- %s seconds per iteration ---\" % (truncate(((time.time() - start_time)/ITER),5)))"
   ]
  },
  {
   "cell_type": "code",
   "execution_count": 8,
   "id": "qualified-representative",
   "metadata": {},
   "outputs": [
    {
     "data": {
      "image/png": "[encoded data removed]",
      "text/plain": [
       "<Figure size 432x288 with 1 Axes>"
      ]
     },
     "metadata": {},
     "output_type": "display_data"
    }
   ],
   "source": [
    "fig, ax = plt.subplots()\n",
    "ax.loglog(data.ExpShearSS,data.ExpStressSS, 'b.')\n",
    "ax.loglog(data.ExpShearSS, SigmaRBEST, 'r.')\n",
    "ax.loglog(data.ExpShearSS, SigmaVISCBEST, 'g.')\n",
    "\n",
    "ax.set(xlabel='Shear Rate [1/s]',ylabel='Stress [Pa]')\n",
    "\n",
    "plt.show()"
   ]
  },
  {
   "cell_type": "code",
   "execution_count": 9,
   "id": "previous-holder",
   "metadata": {},
   "outputs": [
    {
     "data": {
      "image/png": "[encoded data removed]",
      "text/plain": [
       "<Figure size 432x288 with 1 Axes>"
      ]
     },
     "metadata": {},
     "output_type": "display_data"
    }
   ],
   "source": [
    "plt.semilogx(data.ExpShearSS, LambdaBEST,'black')\n",
    "plt.show()"
   ]
  },
  {
   "cell_type": "code",
   "execution_count": null,
   "id": "loving-satin",
   "metadata": {},
   "outputs": [],
   "source": []
  }
 ],
 "metadata": {
  "kernelspec": {
   "display_name": "Python 3",
   "language": "python",
   "name": "python3"
  },
  "language_info": {
   "codemirror_mode": {
    "name": "ipython",
    "version": 3
   },
   "file_extension": ".py",
   "mimetype": "text/x-python",
   "name": "python",
   "nbconvert_exporter": "python",
   "pygments_lexer": "ipython3",
   "version": "3.9.2"
  }
 },
 "nbformat": 4,
 "nbformat_minor": 5
}
